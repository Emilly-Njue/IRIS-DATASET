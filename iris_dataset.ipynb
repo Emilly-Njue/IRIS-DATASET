{
 "cells": [
  {
   "cell_type": "markdown",
   "metadata": {},
   "source": [
    "Use sklearn.datasets iris flower dataset to train your model using logistic regression. You need to figure out accuracy of your model and use that to predict different samples in your test dataset. In iris dataset there are 150 samples containing following features, <br>\n",
    "\n",
    "Sepal Length <br>\n",
    "Sepal Width <br>\n",
    "Petal Length <br>\n",
    "Petal Width <br>\n",
    "Using above 4 features you will clasify a flower in one of the three categories, <br>\n",
    "\n",
    "Setosa <br>\n",
    "Versicolour <br>\n",
    "Virginica <br>\n",
    "\n",
    "![IRIS DATASET](iris_petal_sepal.png)\n"
   ]
  },
  {
   "cell_type": "code",
   "execution_count": 1,
   "metadata": {},
   "outputs": [],
   "source": [
    "#Import Libraries\n",
    "from sklearn.datasets import load_iris\n",
    "from sklearn.linear_model import LogisticRegression\n",
    "\n",
    "import matplotlib.pyplot as plt\n"
   ]
  }
 ],
 "metadata": {
  "kernelspec": {
   "display_name": "base",
   "language": "python",
   "name": "python3"
  },
  "language_info": {
   "codemirror_mode": {
    "name": "ipython",
    "version": 3
   },
   "file_extension": ".py",
   "mimetype": "text/x-python",
   "name": "python",
   "nbconvert_exporter": "python",
   "pygments_lexer": "ipython3",
   "version": "3.9.13"
  },
  "orig_nbformat": 4
 },
 "nbformat": 4,
 "nbformat_minor": 2
}
